{
 "cells": [
  {
   "cell_type": "markdown",
   "id": "3bf473a6-c790-40db-a541-42410fcaa5ad",
   "metadata": {},
   "source": [
    "# Data Science Tools and Ecosystem"
   ]
  },
  {
   "cell_type": "markdown",
   "id": "1f872703-0f86-42a7-a4e4-24e09024d4fe",
   "metadata": {},
   "source": [
    "In this notebook, Data Science Tools and Ecosystem are summarized."
   ]
  },
  {
   "cell_type": "markdown",
   "id": "71af0385-39d3-42f8-897a-9eaea91ff320",
   "metadata": {},
   "source": [
    "Some of the popular languages that Data Scientists use are:\n",
    "1. Python\n",
    "2. SQL\n",
    "3. R"
   ]
  },
  {
   "cell_type": "markdown",
   "id": "3221e683-9a32-4e25-b23f-aedb105656b1",
   "metadata": {},
   "source": [
    "Some of the commonly used libraries used by Data Scientists include:\n",
    "1. NumPy\n",
    "2. Matplotlib\n",
    "3. SciPy"
   ]
  },
  {
   "cell_type": "markdown",
   "id": "4425435e-e0f9-4976-a728-3383cd84faa9",
   "metadata": {},
   "source": [
    "|Data Science Tools|\n",
    "|-----|\n",
    "|RStudio|\n",
    "|Apache Spark|\n",
    "|TensorFlow|"
   ]
  },
  {
   "cell_type": "markdown",
   "id": "64f1e51f-b3b9-43a6-8477-902426cb6bc5",
   "metadata": {},
   "source": [
    "### Below are a few examples of evaluating arithmetic expressions in Python"
   ]
  },
  {
   "cell_type": "code",
   "execution_count": 8,
   "id": "1a1fae76-6403-4323-8f83-bd0632ae2ab0",
   "metadata": {},
   "outputs": [
    {
     "data": {
      "text/plain": [
       "17"
      ]
     },
     "execution_count": 8,
     "metadata": {},
     "output_type": "execute_result"
    }
   ],
   "source": [
    "# This a simple arithmetic expression to mutiply then add integers\n",
    "(3*4)+5"
   ]
  },
  {
   "cell_type": "code",
   "execution_count": 24,
   "id": "8107ad86-5ab8-4c7d-b070-207cf54ca492",
   "metadata": {},
   "outputs": [
    {
     "name": "stdout",
     "output_type": "stream",
     "text": [
      "3.3333333333333335\n"
     ]
    }
   ],
   "source": [
    "# This will convert 200 minutes to hours by dividing by 60\n",
    "minutes = 200\n",
    "hours = minutes/60.0\n",
    "print(hours)"
   ]
  },
  {
   "cell_type": "markdown",
   "id": "29be47c2-ae21-4d68-bb54-cdcaaa151f04",
   "metadata": {},
   "source": [
    "Objectives:\n",
    "* List popular languages for Data Science\n",
    "* List popular tools for Data Science\n",
    "* List popular libraries for Data Science\n",
    "* Display how markdown and code can be presented in a Jupyter notebook\n",
    "* Upload and share Jupyter notebooks"
   ]
  },
  {
   "cell_type": "markdown",
   "id": "444a05ba-1411-49bd-a412-a2b21e3ec425",
   "metadata": {},
   "source": [
    "## Author\n",
    "Max W."
   ]
  },
  {
   "cell_type": "code",
   "execution_count": null,
   "id": "6e3b1840-3291-420d-a690-304aa63b2d8e",
   "metadata": {},
   "outputs": [],
   "source": []
  }
 ],
 "metadata": {
  "kernelspec": {
   "display_name": "\"Python/Mu (mu_venv-38-20250113-140846)\"",
   "language": "python",
   "name": "mu_venv-38-20250113-140846"
  },
  "language_info": {
   "codemirror_mode": {
    "name": "ipython",
    "version": 3
   },
   "file_extension": ".py",
   "mimetype": "text/x-python",
   "name": "python",
   "nbconvert_exporter": "python",
   "pygments_lexer": "ipython3",
   "version": "3.8.12"
  }
 },
 "nbformat": 4,
 "nbformat_minor": 5
}
